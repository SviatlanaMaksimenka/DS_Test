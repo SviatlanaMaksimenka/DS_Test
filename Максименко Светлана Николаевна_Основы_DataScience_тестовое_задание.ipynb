{
 "cells": [
  {
   "cell_type": "markdown",
   "id": "824280fb",
   "metadata": {},
   "source": [
    "## Задача 1:\n",
    "Написать функцию на языке Python, аргументом которой является целочисленный массив \n",
    "(список, элементами которого является тип данных int). \n",
    "Функция должна обработать целочисленный массив и вернуть только уникальные значения \n",
    "(без дубликатов) для данного массива c сортировкой по возрастанию"
   ]
  },
  {
   "cell_type": "code",
   "execution_count": 43,
   "id": "4f9c4c55",
   "metadata": {},
   "outputs": [
    {
     "name": "stdout",
     "output_type": "stream",
     "text": [
      "1 2 5 4\n",
      "[1, 2, 4, 5]\n"
     ]
    }
   ],
   "source": [
    "def func(a):\n",
    "    return sorted(list(set(a)))\n",
    "a = [int(i) for i in input().split()]\n",
    "print(func(a))"
   ]
  },
  {
   "cell_type": "markdown",
   "id": "91ae0c52",
   "metadata": {},
   "source": [
    "## Задача 2:\n",
    "Напишите функцию, которая принимает на вход два вектора (2 списка) и рассчитывает косинусное расстояние полученных векторов и выводит результат вычисления в консоль. Реализуйте проверку для валидности расчета косинусного расстояния между 2-мя векторами, в случае если проверка не прошла, вывести в консоль причину почему рассчитать расстояние между 2-мя векторами невозможно."
   ]
  },
  {
   "cell_type": "code",
   "execution_count": 138,
   "id": "02a9dfcb",
   "metadata": {},
   "outputs": [
    {
     "name": "stdout",
     "output_type": "stream",
     "text": [
      "1 2\n",
      "2 1\n",
      "0.7999999999999998\n"
     ]
    }
   ],
   "source": [
    "def func(a,b):\n",
    "    dot=sum(i*j for i, j in zip(a, b))\n",
    "    l1=sum(i**2 for i in a)**0.5\n",
    "    l2=sum(j**2 for j in b)**0.5\n",
    "    return dot/(l1*l2)\n",
    "a = [int(i) for i in input().split()]\n",
    "b = [int(j) for j in input().split()]\n",
    "if len(a)!=len(b):\n",
    "    print('Вектора имеют разную размерность')\n",
    "elif sum(i for i in a) == 0 or sum(j for j in b) == 0:\n",
    "    print('Если один из векторов или оба вектора нулевые, то угол между ними будет равен 0°')\n",
    "else: print(func(a,b))      "
   ]
  },
  {
   "cell_type": "markdown",
   "id": "1bc54745",
   "metadata": {},
   "source": [
    "## Задача 3:\n",
    "Реализуйте функцию принимающую 2 аргумента - 2-е даты. Результатом вычисления функции должна быть разница между 2-й датой и 1-й датов в днях. В случае если разница принимает негативное значение вывести в консоль абсолютное значение разницы в днях. Используем стандартный модуль Python для работы с датами datetime (без внешних библиотек).\n"
   ]
  },
  {
   "cell_type": "code",
   "execution_count": 140,
   "id": "ebf4e441",
   "metadata": {},
   "outputs": [
    {
     "name": "stdout",
     "output_type": "stream",
     "text": [
      "400\n"
     ]
    }
   ],
   "source": [
    "from datetime import date\n",
    "def func(date1, date2):\n",
    "    if date2 > date1:   \n",
    "        return (date2-date1).days\n",
    "    else:\n",
    "        return (date1-date2).days\n",
    "date1 = date(1989, 6, 6)\n",
    "date2 = date(1990, 7, 11)\n",
    "print(func(date1, date2))"
   ]
  },
  {
   "cell_type": "markdown",
   "id": "ea4db4f3",
   "metadata": {},
   "source": [
    "## Задача 4:\n",
    "Реализуйте двусвязный список используя синтаксис языка Python. Вам необходимо создать класс (либо несколько классов), который (которые) будет (будут) представлять структуру данных - связный список.\n",
    "Связный список — это набор элементов данных, называемых узлами. В односвязном списке каждый узел содержит значение и ссылку на следующий узел. В двусвязном списке каждый узел также содержит ссылку на предыдущий узел.\n",
    "Реализуйте узел для хранения значения и указателей на следующий и предыдущий узлы. \n",
    "Затем реализуйте список, который содержит ссылки на первый и последний узел и предлагает интерфейс, подобный массиву, для добавления и удаления элементов, какие методы должны быть реализованы:\n",
    "push() - записывает значение в конец списка\n",
    "pop() - удаляет значение с конца списка\n",
    "shift() - удаляет значение в начале списка\n",
    "unshift() - записывает значение в начало списка\n"
   ]
  },
  {
   "cell_type": "markdown",
   "id": "4734faf8",
   "metadata": {},
   "source": [
    "## Задача 5:\n",
    "Существует массив поисковых запросов, например:\n",
    "\n",
    "search_queries = [“watch new movies”, “coffee near me”, “how to find the determinant”, “python”, “data science jobs in UK”, “courses for data science”, “taxi”, “google”, “yandex”, “bing”,”foreign exchange rates USD/BYN”, “Netflix movies watch online free”,  “Statistics courses online from top universities”]\n",
    "\n",
    "Необходимо реализовать функцию, которая принимает на вход данные массива поисковых запросов и возвращает распределение поисковых запросов по количеству слов в каждом из запросов в процентах. \n",
    "\n",
    "Результат должен выглядеть следующим образом:\n",
    "1 слово : 10%\n",
    "2 слова:  40%\n",
    "4 слова:  45%\n",
    "5 слов:    5%\n"
   ]
  },
  {
   "cell_type": "code",
   "execution_count": 128,
   "id": "cbd965ed",
   "metadata": {},
   "outputs": [
    {
     "name": "stdout",
     "output_type": "stream",
     "text": [
      "1 слово: 38%\n",
      "3 слова: 15%\n",
      "4 слова: 15%\n",
      "5 слов: 23%\n",
      "6 слов: 8%\n"
     ]
    }
   ],
   "source": [
    "def func(a):\n",
    "    wcount = [len(i.split()) for i in a]\n",
    "    wcount.sort()\n",
    "    for cnt in set(wcount):\n",
    "        perc = wcount.count(cnt)/len(wcount)*100\n",
    "        if cnt == 1:  \n",
    "            print(f'{cnt} слово: {perc:.0f}%') \n",
    "        elif cnt in (2,3,4):  \n",
    "            print(f'{cnt} слова: {perc:.0f}%') \n",
    "        else:  \n",
    "            print(f'{cnt} слов: {perc:.0f}%')\n",
    "search_queries = [\"watch new movies\",\"coffee near me\", \"how to find the determinant\", \"python\",\n",
    "\"data science jobs in UK\", \"courses for data science\",\"taxi\", \"google\", \"yandex\", \"bing\",\n",
    "\"foreign exchange rates USD/BYN\",\"Netflix movies watch online free\",\"Statistics courses online from top universities\"]\n",
    "func(search_queries)"
   ]
  },
  {
   "cell_type": "code",
   "execution_count": null,
   "id": "28beb564",
   "metadata": {},
   "outputs": [],
   "source": []
  }
 ],
 "metadata": {
  "kernelspec": {
   "display_name": "Python 3 (ipykernel)",
   "language": "python",
   "name": "python3"
  },
  "language_info": {
   "codemirror_mode": {
    "name": "ipython",
    "version": 3
   },
   "file_extension": ".py",
   "mimetype": "text/x-python",
   "name": "python",
   "nbconvert_exporter": "python",
   "pygments_lexer": "ipython3",
   "version": "3.9.13"
  }
 },
 "nbformat": 4,
 "nbformat_minor": 5
}
